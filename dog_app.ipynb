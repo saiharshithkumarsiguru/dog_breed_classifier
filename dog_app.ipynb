{
 "cells": [
  {
   "cell_type": "markdown",
   "metadata": {},
   "source": [
    "# Data Scientist Nanodegree\n",
    "\n",
    "## Convolutional Neural Networks\n",
    "\n",
    "## Project: Write an Algorithm for a Dog Identification App \n",
    "\n",
    "\n",
    "This notebook walks you through one of the most popular Udacity projects across machine learning and artificial intellegence nanodegree programs.  The goal is to classify images of dogs according to their breed.  \n",
    "\n",
    "If you are looking for a more guided capstone project related to deep learning and convolutional neural networks, this might be just it.  Notice that even if you follow the notebook to creating your classifier, you must still create a blog post or deploy an application to fulfill the requirements of the capstone project.\n",
    "\n",
    "Also notice, you may be able to use only parts of this notebook (for example certain coding portions or the data) without completing all parts and still meet all requirements of the capstone project.\n",
    "\n",
    "---\n",
    "\n",
    "In this notebook, some template code has already been provided for you, and you will need to implement additional functionality to successfully complete this project. You will not need to modify the included code beyond what is requested. Sections that begin with **'(IMPLEMENTATION)'** in the header indicate that the following block of code will require additional functionality which you must provide. Instructions will be provided for each section, and the specifics of the implementation are marked in the code block with a 'TODO' statement. Please be sure to read the instructions carefully! \n",
    "\n",
    "In addition to implementing code, there will be questions that you must answer which relate to the project and your implementation. Each section where you will answer a question is preceded by a **'Question X'** header. Carefully read each question and provide thorough answers in the following text boxes that begin with **'Answer:'**. Your project submission will be evaluated based on your answers to each of the questions and the implementation you provide.\n",
    "\n",
    ">**Note:** Code and Markdown cells can be executed using the **Shift + Enter** keyboard shortcut.  Markdown cells can be edited by double-clicking the cell to enter edit mode.\n",
    "\n",
    "The rubric contains _optional_ \"Stand Out Suggestions\" for enhancing the project beyond the minimum requirements. If you decide to pursue the \"Stand Out Suggestions\", you should include the code in this IPython notebook.\n",
    "\n",
    "\n",
    "\n",
    "---\n",
    "### Why We're Here \n",
    "\n",
    "In this notebook, you will make the first steps towards developing an algorithm that could be used as part of a mobile or web app.  At the end of this project, your code will accept any user-supplied image as input.  If a dog is detected in the image, it will provide an estimate of the dog's breed.  If a human is detected, it will provide an estimate of the dog breed that is most resembling.  The image below displays potential sample output of your finished project (... but we expect that each student's algorithm will behave differently!). \n",
    "\n",
    "![Sample Dog Output](images/sample_dog_output.png)\n",
    "\n",
    "In this real-world setting, you will need to piece together a series of models to perform different tasks; for instance, the algorithm that detects humans in an image will be different from the CNN that infers dog breed.  There are many points of possible failure, and no perfect algorithm exists.  Your imperfect solution will nonetheless create a fun user experience!\n",
    "\n",
    "### The Road Ahead\n",
    "\n",
    "We break the notebook into separate steps.  Feel free to use the links below to navigate the notebook.\n",
    "\n",
    "* [Step 0](#step0): Import Datasets\n",
    "* [Step 1](#step1): Detect Humans\n",
    "* [Step 2](#step2): Detect Dogs\n",
    "* [Step 3](#step3): Create a CNN to Classify Dog Breeds (from Scratch)\n",
    "* [Step 4](#step4): Use a CNN to Classify Dog Breeds (using Transfer Learning)\n",
    "* [Step 5](#step5): Create a CNN to Classify Dog Breeds (using Transfer Learning)\n",
    "* [Step 6](#step6): Write your Algorithm\n",
    "* [Step 7](#step7): Test Your Algorithm\n",
    "\n",
    "---\n",
    "<a id='step0'></a>\n",
    "## Step 0: Import Datasets\n",
    "\n",
    "### Import Dog Dataset\n",
    "\n",
    "In the code cell below, we import a dataset of dog images.  We populate a few variables through the use of the `load_files` function from the scikit-learn library:\n",
    "- `train_files`, `valid_files`, `test_files` - numpy arrays containing file paths to images\n",
    "- `train_targets`, `valid_targets`, `test_targets` - numpy arrays containing onehot-encoded classification labels \n",
    "- `dog_names` - list of string-valued dog breed names for translating labels"
   ]
  },
  {
   "cell_type": "code",
   "execution_count": 1,
   "metadata": {},
   "outputs": [
    {
     "name": "stderr",
     "output_type": "stream",
     "text": [
      "Using TensorFlow backend.\n"
     ]
    },
    {
     "name": "stdout",
     "output_type": "stream",
     "text": [
      "There are 133 total dog categories.\n",
      "There are 8351 total dog images.\n",
      "\n",
      "There are 6680 training dog images.\n",
      "There are 835 validation dog images.\n",
      "There are 836 test dog images.\n"
     ]
    }
   ],
   "source": [
    "from sklearn.datasets import load_files       \n",
    "from keras.utils import np_utils\n",
    "import matplotlib.pyplot as plt\n",
    "import numpy as np\n",
    "from glob import glob\n",
    "\n",
    "# define function to load train, test, and validation datasets\n",
    "def load_dataset(path):\n",
    "    data = load_files(path)\n",
    "    dog_files = np.array(data['filenames'])\n",
    "    dog_targets = np_utils.to_categorical(np.array(data['target']), 133)\n",
    "    return dog_files, dog_targets\n",
    "\n",
    "# load train, test, and validation datasets\n",
    "train_files, train_targets = load_dataset('../../../data/dog_images/train')\n",
    "valid_files, valid_targets = load_dataset('../../../data/dog_images/valid')\n",
    "test_files, test_targets = load_dataset('../../../data/dog_images/test')\n",
    "\n",
    "# load list of dog names\n",
    "dog_names = [item[20:-1] for item in sorted(glob(\"../../../data/dog_images/train/*/\"))]\n",
    "\n",
    "# print statistics about the dataset\n",
    "print('There are %d total dog categories.' % len(dog_names))\n",
    "print('There are %s total dog images.\\n' % len(np.hstack([train_files, valid_files, test_files])))\n",
    "print('There are %d training dog images.' % len(train_files))\n",
    "print('There are %d validation dog images.' % len(valid_files))\n",
    "print('There are %d test dog images.'% len(test_files))"
   ]
  },
  {
   "cell_type": "markdown",
   "metadata": {},
   "source": [
    "### Import Human Dataset\n",
    "\n",
    "In the code cell below, we import a dataset of human images, where the file paths are stored in the numpy array `human_files`."
   ]
  },
  {
   "cell_type": "code",
   "execution_count": 2,
   "metadata": {},
   "outputs": [
    {
     "name": "stdout",
     "output_type": "stream",
     "text": [
      "There are 13233 total human images.\n"
     ]
    }
   ],
   "source": [
    "import random\n",
    "random.seed(8675309)\n",
    "\n",
    "# load filenames in shuffled human dataset\n",
    "human_files = np.array(glob(\"../../../data/lfw/*/*\"))\n",
    "random.shuffle(human_files)\n",
    "\n",
    "# print statistics about the dataset\n",
    "print('There are %d total human images.' % len(human_files))"
   ]
  },
  {
   "cell_type": "markdown",
   "metadata": {},
   "source": [
    "---\n",
    "<a id='step1'></a>\n",
    "## Step 1: Detect Humans\n",
    "\n",
    "We use OpenCV's implementation of [Haar feature-based cascade classifiers](http://docs.opencv.org/trunk/d7/d8b/tutorial_py_face_detection.html) to detect human faces in images.  OpenCV provides many pre-trained face detectors, stored as XML files on [github](https://github.com/opencv/opencv/tree/master/data/haarcascades).  We have downloaded one of these detectors and stored it in the `haarcascades` directory.\n",
    "\n",
    "In the next code cell, we demonstrate how to use this detector to find human faces in a sample image."
   ]
  },
  {
   "cell_type": "code",
   "execution_count": 3,
   "metadata": {},
   "outputs": [
    {
     "name": "stdout",
     "output_type": "stream",
     "text": [
      "Number of faces detected: 1\n"
     ]
    },
    {
     "data": {
      "image/png": "[encoded data removed]",
      "text/plain": [
       "<matplotlib.figure.Figure at 0x7f85d942bac8>"
      ]
     },
     "metadata": {
      "needs_background": "light"
     },
     "output_type": "display_data"
    }
   ],
   "source": [
    "import cv2                \n",
    "import matplotlib.pyplot as plt                        \n",
    "%matplotlib inline                               \n",
    "\n",
    "# extract pre-trained face detector\n",
    "face_cascade = cv2.CascadeClassifier('haarcascades/haarcascade_frontalface_alt.xml')\n",
    "\n",
    "# load color (BGR) image\n",
    "img = cv2.imread(human_files[3])\n",
    "# convert BGR image to grayscale\n",
    "gray = cv2.cvtColor(img, cv2.COLOR_BGR2GRAY)\n",
    "\n",
    "# find faces in image\n",
    "faces = face_cascade.detectMultiScale(gray)\n",
    "\n",
    "# print number of faces detected in the image\n",
    "print('Number of faces detected:', len(faces))\n",
    "\n",
    "# get bounding box for each detected face\n",
    "for (x,y,w,h) in faces:\n",
    "    # add bounding box to color image\n",
    "    cv2.rectangle(img,(x,y),(x+w,y+h),(255,0,0),2)\n",
    "    \n",
    "# convert BGR image to RGB for plotting\n",
    "cv_rgb = cv2.cvtColor(img, cv2.COLOR_BGR2RGB)\n",
    "\n",
    "# display the image, along with bounding box\n",
    "plt.imshow(cv_rgb)\n",
    "plt.show()"
   ]
  },
  {
   "cell_type": "markdown",
   "metadata": {},
   "source": [
    "Before using any of the face detectors, it is standard procedure to convert the images to grayscale.  The `detectMultiScale` function executes the classifier stored in `face_cascade` and takes the grayscale image as a parameter.  \n",
    "\n",
    "In the above code, `faces` is a numpy array of detected faces, where each row corresponds to a detected face.  Each detected face is a 1D array with four entries that specifies the bounding box of the detected face.  The first two entries in the array (extracted in the above code as `x` and `y`) specify the horizontal and vertical positions of the top left corner of the bounding box.  The last two entries in the array (extracted here as `w` and `h`) specify the width and height of the box.\n",
    "\n",
    "### Write a Human Face Detector\n",
    "\n",
    "We can use this procedure to write a function that returns `True` if a human face is detected in an image and `False` otherwise.  This function, aptly named `face_detector`, takes a string-valued file path to an image as input and appears in the code block below."
   ]
  },
  {
   "cell_type": "code",
   "execution_count": 4,
   "metadata": {},
   "outputs": [],
   "source": [
    "# returns \"True\" if face is detected in image stored at img_path\n",
    "def face_detector(img_path):\n",
    "    img = cv2.imread(img_path)\n",
    "    gray = cv2.cvtColor(img, cv2.COLOR_BGR2GRAY)\n",
    "    faces = face_cascade.detectMultiScale(gray)\n",
    "    return len(faces) > 0"
   ]
  },
  {
   "cell_type": "markdown",
   "metadata": {},
   "source": [
    "### (IMPLEMENTATION) Assess the Human Face Detector\n",
    "\n",
    "__Question 1:__ Use the code cell below to test the performance of the `face_detector` function.  \n",
    "- What percentage of the first 100 images in `human_files` have a detected human face?  \n",
    "- What percentage of the first 100 images in `dog_files` have a detected human face? \n",
    "\n",
    "Ideally, we would like 100% of human images with a detected face and 0% of dog images with a detected face.  You will see that our algorithm falls short of this goal, but still gives acceptable performance.  We extract the file paths for the first 100 images from each of the datasets and store them in the numpy arrays `human_files_short` and `dog_files_short`.\n",
    "\n",
    "__Answer:__ \n",
    "Based on the below results\n",
    "\n",
    "percentage of the first 100 images in human_files have a detected human face is 100%.\n",
    "\n",
    "percentage of the first 100 images in dog_files have a detected human face is 11%.\n"
   ]
  },
  {
   "cell_type": "code",
   "execution_count": 5,
   "metadata": {},
   "outputs": [
    {
     "name": "stdout",
     "output_type": "stream",
     "text": [
      "100.0\n",
      "11.0\n"
     ]
    }
   ],
   "source": [
    "human_files_short = human_files[:100]\n",
    "dog_files_short = train_files[:100]\n",
    "# Do NOT modify the code above this line.\n",
    "\n",
    "## TODO: Test the performance of the face_detector algorithm \n",
    "## on the images in human_files_short and dog_files_short.\n",
    "# What percentage of the first 100 images in human_files have a detected human face?\n",
    "human_files_human_face = (sum([face_detector(img_path) for img_path in human_files_short])/len(human_files_short)) * 100\n",
    "#What percentage of the first 100 images in dog_files have a detected human face?\n",
    "dog_files_human_face = (sum([face_detector(img_path) for img_path in dog_files_short])/len(dog_files_short)) * 100\n",
    "print(human_files_human_face)\n",
    "print(dog_files_human_face)"
   ]
  },
  {
   "cell_type": "markdown",
   "metadata": {},
   "source": [
    "__Question 2:__ This algorithmic choice necessitates that we communicate to the user that we accept human images only when they provide a clear view of a face (otherwise, we risk having unneccessarily frustrated users!). In your opinion, is this a reasonable expectation to pose on the user? If not, can you think of a way to detect humans in images that does not necessitate an image with a clearly presented face?\n",
    "\n",
    "__Answer:__\n",
    "\n",
    "I think we  can use other features like ears,nose,mouth,facial expressions etc for better performance of our face detector algorithm.\n",
    "\n",
    "we suggest the face detector from OpenCV as a potential way to detect human images in your algorithm, but you are free to explore other approaches, especially approaches that make use of deep learning :).  Please use the code cell below to design and test your own face detection algorithm.  If you decide to pursue this _optional_ task, report performance on each of the datasets."
   ]
  },
  {
   "cell_type": "code",
   "execution_count": null,
   "metadata": {
    "collapsed": true
   },
   "outputs": [],
   "source": [
    "## (Optional) TODO: Report the performance of another  \n",
    "## face detection algorithm on the LFW dataset\n",
    "### Feel free to use as many code cells as needed."
   ]
  },
  {
   "cell_type": "markdown",
   "metadata": {},
   "source": [
    "---\n",
    "<a id='step2'></a>\n",
    "## Step 2: Detect Dogs\n",
    "\n",
    "In this section, we use a pre-trained [ResNet-50](http://ethereon.github.io/netscope/#/gist/db945b393d40bfa26006) model to detect dogs in images.  Our first line of code downloads the ResNet-50 model, along with weights that have been trained on [ImageNet](http://www.image-net.org/), a very large, very popular dataset used for image classification and other vision tasks.  ImageNet contains over 10 million URLs, each linking to an image containing an object from one of [1000 categories](https://gist.github.com/yrevar/942d3a0ac09ec9e5eb3a).  Given an image, this pre-trained ResNet-50 model returns a prediction (derived from the available categories in ImageNet) for the object that is contained in the image."
   ]
  },
  {
   "cell_type": "code",
   "execution_count": 7,
   "metadata": {},
   "outputs": [],
   "source": [
    "from keras.applications.resnet50 import ResNet50\n",
    "\n",
    "# define ResNet50 model\n",
    "ResNet50_model = ResNet50(weights='imagenet')"
   ]
  },
  {
   "cell_type": "markdown",
   "metadata": {},
   "source": [
    "### Pre-process the Data\n",
    "\n",
    "When using TensorFlow as backend, Keras CNNs require a 4D array (which we'll also refer to as a 4D tensor) as input, with shape\n",
    "\n",
    "$$\n",
    "(\\text{nb_samples}, \\text{rows}, \\text{columns}, \\text{channels}),\n",
    "$$\n",
    "\n",
    "where `nb_samples` corresponds to the total number of images (or samples), and `rows`, `columns`, and `channels` correspond to the number of rows, columns, and channels for each image, respectively.  \n",
    "\n",
    "The `path_to_tensor` function below takes a string-valued file path to a color image as input and returns a 4D tensor suitable for supplying to a Keras CNN.  The function first loads the image and resizes it to a square image that is $224 \\times 224$ pixels.  Next, the image is converted to an array, which is then resized to a 4D tensor.  In this case, since we are working with color images, each image has three channels.  Likewise, since we are processing a single image (or sample), the returned tensor will always have shape\n",
    "\n",
    "$$\n",
    "(1, 224, 224, 3).\n",
    "$$\n",
    "\n",
    "The `paths_to_tensor` function takes a numpy array of string-valued image paths as input and returns a 4D tensor with shape \n",
    "\n",
    "$$\n",
    "(\\text{nb_samples}, 224, 224, 3).\n",
    "$$\n",
    "\n",
    "Here, `nb_samples` is the number of samples, or number of images, in the supplied array of image paths.  It is best to think of `nb_samples` as the number of 3D tensors (where each 3D tensor corresponds to a different image) in your dataset!"
   ]
  },
  {
   "cell_type": "code",
   "execution_count": 8,
   "metadata": {},
   "outputs": [],
   "source": [
    "from keras.preprocessing import image                  \n",
    "from tqdm import tqdm\n",
    "\n",
    "def path_to_tensor(img_path):\n",
    "    # loads RGB image as PIL.Image.Image type\n",
    "    img = image.load_img(img_path, target_size=(224, 224))\n",
    "    # convert PIL.Image.Image type to 3D tensor with shape (224, 224, 3)\n",
    "    x = image.img_to_array(img)\n",
    "    # convert 3D tensor to 4D tensor with shape (1, 224, 224, 3) and return 4D tensor\n",
    "    return np.expand_dims(x, axis=0)\n",
    "\n",
    "def paths_to_tensor(img_paths):\n",
    "    list_of_tensors = [path_to_tensor(img_path) for img_path in tqdm(img_paths)]\n",
    "    return np.vstack(list_of_tensors)"
   ]
  },
  {
   "cell_type": "markdown",
   "metadata": {},
   "source": [
    "### Making Predictions with ResNet-50\n",
    "\n",
    "Getting the 4D tensor ready for ResNet-50, and for any other pre-trained model in Keras, requires some additional processing.  First, the RGB image is converted to BGR by reordering the channels.  All pre-trained models have the additional normalization step that the mean pixel (expressed in RGB as $[103.939, 116.779, 123.68]$ and calculated from all pixels in all images in ImageNet) must be subtracted from every pixel in each image.  This is implemented in the imported function `preprocess_input`.  If you're curious, you can check the code for `preprocess_input` [here](https://github.com/fchollet/keras/blob/master/keras/applications/imagenet_utils.py).\n",
    "\n",
    "Now that we have a way to format our image for supplying to ResNet-50, we are now ready to use the model to extract the predictions.  This is accomplished with the `predict` method, which returns an array whose $i$-th entry is the model's predicted probability that the image belongs to the $i$-th ImageNet category.  This is implemented in the `ResNet50_predict_labels` function below.\n",
    "\n",
    "By taking the argmax of the predicted probability vector, we obtain an integer corresponding to the model's predicted object class, which we can identify with an object category through the use of this [dictionary](https://gist.github.com/yrevar/942d3a0ac09ec9e5eb3a). "
   ]
  },
  {
   "cell_type": "code",
   "execution_count": 9,
   "metadata": {},
   "outputs": [],
   "source": [
    "from keras.applications.resnet50 import preprocess_input, decode_predictions\n",
    "\n",
    "def ResNet50_predict_labels(img_path):\n",
    "    # returns prediction vector for image located at img_path\n",
    "    img = preprocess_input(path_to_tensor(img_path))\n",
    "    return np.argmax(ResNet50_model.predict(img))"
   ]
  },
  {
   "cell_type": "markdown",
   "metadata": {},
   "source": [
    "### Write a Dog Detector\n",
    "\n",
    "While looking at the [dictionary](https://gist.github.com/yrevar/942d3a0ac09ec9e5eb3a), you will notice that the categories corresponding to dogs appear in an uninterrupted sequence and correspond to dictionary keys 151-268, inclusive, to include all categories from `'Chihuahua'` to `'Mexican hairless'`.  Thus, in order to check to see if an image is predicted to contain a dog by the pre-trained ResNet-50 model, we need only check if the `ResNet50_predict_labels` function above returns a value between 151 and 268 (inclusive).\n",
    "\n",
    "We use these ideas to complete the `dog_detector` function below, which returns `True` if a dog is detected in an image (and `False` if not)."
   ]
  },
  {
   "cell_type": "code",
   "execution_count": 10,
   "metadata": {},
   "outputs": [],
   "source": [
    "### returns \"True\" if a dog is detected in the image stored at img_path\n",
    "def dog_detector(img_path):\n",
    "    prediction = ResNet50_predict_labels(img_path)\n",
    "    return ((prediction <= 268) & (prediction >= 151)) "
   ]
  },
  {
   "cell_type": "markdown",
   "metadata": {},
   "source": [
    "### (IMPLEMENTATION) Assess the Dog Detector\n",
    "\n",
    "__Question 3:__ Use the code cell below to test the performance of your `dog_detector` function.  \n",
    "- What percentage of the images in `human_files_short` have a detected dog?  \n",
    "- What percentage of the images in `dog_files_short` have a detected dog?\n",
    "\n",
    "__Answer:__ \n",
    "The images of the first 100 human_files were detected as dog is 0.0%\n",
    "The images of the first 100 dog_files were detected as dog is 100.0%"
   ]
  },
  {
   "cell_type": "code",
   "execution_count": 11,
   "metadata": {},
   "outputs": [
    {
     "name": "stdout",
     "output_type": "stream",
     "text": [
      "The images of the first 100 human_files were detected as dog is 0.0%\n",
      "The images of the first 100 dog_files were detected as dog is 100.0%\n"
     ]
    }
   ],
   "source": [
    "### TODO: Test the performance of the dog_detector function\n",
    "### on the images in human_files_short and dog_files_short.\n",
    "human_files_short = human_files[:100]\n",
    "dog_files_short = train_files[:100]\n",
    "count_humans = 0 \n",
    "count_dogs = 0\n",
    "\n",
    "for file in human_files_short:\n",
    "    if dog_detector(file) == True:\n",
    "        count_humans += 1\n",
    "        \n",
    "for file in dog_files_short:\n",
    "    if dog_detector(file) == True:\n",
    "        count_dogs += 1\n",
    "\n",
    "print('The images of the first 100 human_files were detected as dog is %.1f%%' % count_humans)\n",
    "print('The images of the first 100 dog_files were detected as dog is %.1f%%' % count_dogs)"
   ]
  },
  {
   "cell_type": "markdown",
   "metadata": {},
   "source": [
    "---\n",
    "<a id='step3'></a>\n",
    "## Step 3: Create a CNN to Classify Dog Breeds (from Scratch)\n",
    "\n",
    "Now that we have functions for detecting humans and dogs in images, we need a way to predict breed from images.  In this step, you will create a CNN that classifies dog breeds.  You must create your CNN _from scratch_ (so, you can't use transfer learning _yet_!), and you must attain a test accuracy of at least 1%.  In Step 5 of this notebook, you will have the opportunity to use transfer learning to create a CNN that attains greatly improved accuracy.\n",
    "\n",
    "Be careful with adding too many trainable layers!  More parameters means longer training, which means you are more likely to need a GPU to accelerate the training process.  Thankfully, Keras provides a handy estimate of the time that each epoch is likely to take; you can extrapolate this estimate to figure out how long it will take for your algorithm to train. \n",
    "\n",
    "We mention that the task of assigning breed to dogs from images is considered exceptionally challenging.  To see why, consider that *even a human* would have great difficulty in distinguishing between a Brittany and a Welsh Springer Spaniel.  \n",
    "\n",
    "Brittany | Welsh Springer Spaniel\n",
    "- | - \n",
    "<img src=\"images/Brittany_02625.jpg\" width=\"100\"> | <img src=\"images/Welsh_springer_spaniel_08203.jpg\" width=\"200\">\n",
    "\n",
    "It is not difficult to find other dog breed pairs with minimal inter-class variation (for instance, Curly-Coated Retrievers and American Water Spaniels).  \n",
    "\n",
    "Curly-Coated Retriever | American Water Spaniel\n",
    "- | -\n",
    "<img src=\"images/Curly-coated_retriever_03896.jpg\" width=\"200\"> | <img src=\"images/American_water_spaniel_00648.jpg\" width=\"200\">\n",
    "\n",
    "\n",
    "Likewise, recall that labradors come in yellow, chocolate, and black.  Your vision-based algorithm will have to conquer this high intra-class variation to determine how to classify all of these different shades as the same breed.  \n",
    "\n",
    "Yellow Labrador | Chocolate Labrador | Black Labrador\n",
    "- | -\n",
    "<img src=\"images/Labrador_retriever_06457.jpg\" width=\"150\"> | <img src=\"images/Labrador_retriever_06455.jpg\" width=\"240\"> | <img src=\"images/Labrador_retriever_06449.jpg\" width=\"220\">\n",
    "\n",
    "We also mention that random chance presents an exceptionally low bar: setting aside the fact that the classes are slightly imabalanced, a random guess will provide a correct answer roughly 1 in 133 times, which corresponds to an accuracy of less than 1%.  \n",
    "\n",
    "Remember that the practice is far ahead of the theory in deep learning.  Experiment with many different architectures, and trust your intuition.  And, of course, have fun! \n",
    "\n",
    "### Pre-process the Data\n",
    "\n",
    "We rescale the images by dividing every pixel in every image by 255."
   ]
  },
  {
   "cell_type": "code",
   "execution_count": 12,
   "metadata": {},
   "outputs": [
    {
     "name": "stderr",
     "output_type": "stream",
     "text": [
      "100%|██████████| 6680/6680 [01:14<00:00, 90.23it/s] \n",
      "100%|██████████| 835/835 [00:08<00:00, 99.87it/s] \n",
      "100%|██████████| 836/836 [00:08<00:00, 101.29it/s]\n"
     ]
    }
   ],
   "source": [
    "from PIL import ImageFile                            \n",
    "ImageFile.LOAD_TRUNCATED_IMAGES = True                 \n",
    "\n",
    "# pre-process the data for Keras\n",
    "train_tensors = paths_to_tensor(train_files).astype('float32')/255\n",
    "valid_tensors = paths_to_tensor(valid_files).astype('float32')/255\n",
    "test_tensors = paths_to_tensor(test_files).astype('float32')/255"
   ]
  },
  {
   "cell_type": "markdown",
   "metadata": {},
   "source": [
    "### (IMPLEMENTATION) Model Architecture\n",
    "\n",
    "Create a CNN to classify dog breed.  At the end of your code cell block, summarize the layers of your model by executing the line:\n",
    "    \n",
    "        model.summary()\n",
    "\n",
    "We have imported some Python modules to get you started, but feel free to import as many modules as you need.  If you end up getting stuck, here's a hint that specifies a model that trains relatively fast on CPU and attains >1% test accuracy in 5 epochs:\n",
    "\n",
    "![Sample CNN](images/sample_cnn.png)\n",
    "           \n",
    "__Question 4:__ Outline the steps you took to get to your final CNN architecture and your reasoning at each step.  If you chose to use the hinted architecture above, describe why you think that CNN architecture should work well for the image classification task.\n",
    "\n",
    "__Answer:__ \n",
    "\n",
    "\n",
    "*To learn hierarchy of high level features 3 convolutional layers are created with 3 max pooling layers in between them . \n",
    "\n",
    "*Max pooling layer is added to reduce the dimensionality.\n",
    "\n",
    "*As fully connected layer only accepts row vector , Flatten layer is added to reduce the matrix to row vector.\n",
    "\n",
    "*The filters used in each of the convolutional layers is 16, 32, 64.\n",
    "\n",
    "*To reduce overfitting and ensure that the network generalizes well Dropout was used along with flattening layer before using the fully connected layer.\n",
    "\n",
    "*Relu activation function was used for all layers except for global pooling layer.\n",
    "\n",
    "*The Number of noders in the last fully connected layer were setup as 133 along with softmax activation function to obtain probabilities of the prediction.\n",
    "\n"
   ]
  },
  {
   "cell_type": "code",
   "execution_count": 13,
   "metadata": {},
   "outputs": [
    {
     "name": "stdout",
     "output_type": "stream",
     "text": [
      "_________________________________________________________________\n",
      "Layer (type)                 Output Shape              Param #   \n",
      "=================================================================\n",
      "conv2d_1 (Conv2D)            (None, 224, 224, 16)      208       \n",
      "_________________________________________________________________\n",
      "max_pooling2d_3 (MaxPooling2 (None, 112, 112, 16)      0         \n",
      "_________________________________________________________________\n",
      "conv2d_2 (Conv2D)            (None, 112, 112, 32)      2080      \n",
      "_________________________________________________________________\n",
      "max_pooling2d_4 (MaxPooling2 (None, 56, 56, 32)        0         \n",
      "_________________________________________________________________\n",
      "conv2d_3 (Conv2D)            (None, 56, 56, 64)        8256      \n",
      "_________________________________________________________________\n",
      "max_pooling2d_5 (MaxPooling2 (None, 28, 28, 64)        0         \n",
      "_________________________________________________________________\n",
      "dropout_1 (Dropout)          (None, 28, 28, 64)        0         \n",
      "_________________________________________________________________\n",
      "flatten_3 (Flatten)          (None, 50176)             0         \n",
      "_________________________________________________________________\n",
      "dense_1 (Dense)              (None, 512)               25690624  \n",
      "_________________________________________________________________\n",
      "dropout_2 (Dropout)          (None, 512)               0         \n",
      "_________________________________________________________________\n",
      "dense_2 (Dense)              (None, 133)               68229     \n",
      "=================================================================\n",
      "Total params: 25,769,397\n",
      "Trainable params: 25,769,397\n",
      "Non-trainable params: 0\n",
      "_________________________________________________________________\n"
     ]
    }
   ],
   "source": [
    "from keras.layers import Conv2D, MaxPooling2D, GlobalAveragePooling2D\n",
    "from keras.layers import Dropout, Flatten, Dense\n",
    "from keras.models import Sequential\n",
    "\n",
    "model = Sequential()\n",
    "\n",
    "### TODO: Define your architecture.\n",
    "model.add(Conv2D(filters=16, kernel_size=2, padding='same', activation='relu', input_shape=(224, 224, 3)))\n",
    "model.add(MaxPooling2D(pool_size=2))\n",
    "\n",
    "model.add(Conv2D(filters=32, kernel_size=2, padding='same', activation='relu'))\n",
    "model.add(MaxPooling2D(pool_size=2))\n",
    "\n",
    "model.add(Conv2D(filters=64, kernel_size=2, padding='same', activation='relu'))\n",
    "model.add(MaxPooling2D(pool_size=2))\n",
    "\n",
    "model.add(Dropout(0.4))\n",
    "model.add(Flatten())\n",
    "model.add(Dense(512, activation='relu'))\n",
    "model.add(Dropout(0.4))\n",
    "model.add(Dense(133, activation='softmax'))\n",
    "\n",
    "model.summary()"
   ]
  },
  {
   "cell_type": "markdown",
   "metadata": {},
   "source": [
    "### Compile the Model"
   ]
  },
  {
   "cell_type": "code",
   "execution_count": 14,
   "metadata": {},
   "outputs": [],
   "source": [
    "model.compile(optimizer='rmsprop', loss='categorical_crossentropy', metrics=['accuracy'])"
   ]
  },
  {
   "cell_type": "markdown",
   "metadata": {},
   "source": [
    "### (IMPLEMENTATION) Train the Model\n",
    "\n",
    "Train your model in the code cell below.  Use model checkpointing to save the model that attains the best validation loss.\n",
    "\n",
    "You are welcome to [augment the training data](https://blog.keras.io/building-powerful-image-classification-models-using-very-little-data.html), but this is not a requirement. "
   ]
  },
  {
   "cell_type": "code",
   "execution_count": 15,
   "metadata": {},
   "outputs": [
    {
     "name": "stdout",
     "output_type": "stream",
     "text": [
      "Train on 6680 samples, validate on 835 samples\n",
      "Epoch 1/30\n",
      "6660/6680 [============================>.] - ETA: 0s - loss: 4.8576 - acc: 0.0179Epoch 00001: val_loss improved from inf to 4.59413, saving model to saved_models/weights.best.from_scratch.hdf5\n",
      "6680/6680 [==============================] - 32s 5ms/step - loss: 4.8568 - acc: 0.0178 - val_loss: 4.5941 - val_acc: 0.0275\n",
      "Epoch 2/30\n",
      "6660/6680 [============================>.] - ETA: 0s - loss: 4.4291 - acc: 0.0536Epoch 00002: val_loss improved from 4.59413 to 4.26876, saving model to saved_models/weights.best.from_scratch.hdf5\n",
      "6680/6680 [==============================] - 31s 5ms/step - loss: 4.4284 - acc: 0.0536 - val_loss: 4.2688 - val_acc: 0.0671\n",
      "Epoch 3/30\n",
      "6660/6680 [============================>.] - ETA: 0s - loss: 3.9337 - acc: 0.1132Epoch 00003: val_loss improved from 4.26876 to 4.26518, saving model to saved_models/weights.best.from_scratch.hdf5\n",
      "6680/6680 [==============================] - 31s 5ms/step - loss: 3.9359 - acc: 0.1130 - val_loss: 4.2652 - val_acc: 0.0683\n",
      "Epoch 4/30\n",
      "6660/6680 [============================>.] - ETA: 0s - loss: 3.1667 - acc: 0.2602Epoch 00004: val_loss improved from 4.26518 to 4.21896, saving model to saved_models/weights.best.from_scratch.hdf5\n",
      "6680/6680 [==============================] - 31s 5ms/step - loss: 3.1659 - acc: 0.2602 - val_loss: 4.2190 - val_acc: 0.0838\n",
      "Epoch 5/30\n",
      "6660/6680 [============================>.] - ETA: 0s - loss: 2.1923 - acc: 0.4578Epoch 00005: val_loss did not improve\n",
      "6680/6680 [==============================] - 31s 5ms/step - loss: 2.1941 - acc: 0.4570 - val_loss: 4.5264 - val_acc: 0.0994\n",
      "Epoch 6/30\n",
      "6660/6680 [============================>.] - ETA: 0s - loss: 1.3758 - acc: 0.6486Epoch 00006: val_loss did not improve\n",
      "6680/6680 [==============================] - 31s 5ms/step - loss: 1.3758 - acc: 0.6485 - val_loss: 4.9321 - val_acc: 0.0958\n",
      "Epoch 7/30\n",
      "6660/6680 [============================>.] - ETA: 0s - loss: 0.8475 - acc: 0.7823Epoch 00007: val_loss did not improve\n",
      "6680/6680 [==============================] - 31s 5ms/step - loss: 0.8502 - acc: 0.7816 - val_loss: 5.5729 - val_acc: 0.1054\n",
      "Epoch 8/30\n",
      "6660/6680 [============================>.] - ETA: 0s - loss: 0.5726 - acc: 0.8432Epoch 00008: val_loss did not improve\n",
      "6680/6680 [==============================] - 31s 5ms/step - loss: 0.5739 - acc: 0.8430 - val_loss: 6.3476 - val_acc: 0.0934\n",
      "Epoch 9/30\n",
      "6660/6680 [============================>.] - ETA: 0s - loss: 0.3986 - acc: 0.8959Epoch 00009: val_loss did not improve\n",
      "6680/6680 [==============================] - 31s 5ms/step - loss: 0.3983 - acc: 0.8960 - val_loss: 6.7272 - val_acc: 0.0898\n",
      "Epoch 10/30\n",
      "6660/6680 [============================>.] - ETA: 0s - loss: 0.3330 - acc: 0.9132Epoch 00010: val_loss did not improve\n",
      "6680/6680 [==============================] - 31s 5ms/step - loss: 0.3332 - acc: 0.9130 - val_loss: 6.8201 - val_acc: 0.0970\n",
      "Epoch 11/30\n",
      "6660/6680 [============================>.] - ETA: 0s - loss: 0.2704 - acc: 0.9296Epoch 00011: val_loss did not improve\n",
      "6680/6680 [==============================] - 31s 5ms/step - loss: 0.2699 - acc: 0.9298 - val_loss: 7.1540 - val_acc: 0.1006\n",
      "Epoch 12/30\n",
      "6660/6680 [============================>.] - ETA: 0s - loss: 0.2158 - acc: 0.9405Epoch 00012: val_loss did not improve\n",
      "6680/6680 [==============================] - 31s 5ms/step - loss: 0.2152 - acc: 0.9407 - val_loss: 7.6863 - val_acc: 0.0970\n",
      "Epoch 13/30\n",
      "6660/6680 [============================>.] - ETA: 0s - loss: 0.2394 - acc: 0.9434Epoch 00013: val_loss did not improve\n",
      "6680/6680 [==============================] - 31s 5ms/step - loss: 0.2387 - acc: 0.9436 - val_loss: 7.3862 - val_acc: 0.1018\n",
      "Epoch 14/30\n",
      "6660/6680 [============================>.] - ETA: 0s - loss: 0.2090 - acc: 0.9486Epoch 00014: val_loss did not improve\n",
      "6680/6680 [==============================] - 31s 5ms/step - loss: 0.2102 - acc: 0.9485 - val_loss: 7.1415 - val_acc: 0.1042\n",
      "Epoch 15/30\n",
      "6660/6680 [============================>.] - ETA: 0s - loss: 0.2091 - acc: 0.9461Epoch 00015: val_loss did not improve\n",
      "6680/6680 [==============================] - 31s 5ms/step - loss: 0.2122 - acc: 0.9460 - val_loss: 6.9609 - val_acc: 0.0958\n",
      "Epoch 16/30\n",
      "6660/6680 [============================>.] - ETA: 0s - loss: 0.2146 - acc: 0.9473Epoch 00016: val_loss did not improve\n",
      "6680/6680 [==============================] - 31s 5ms/step - loss: 0.2150 - acc: 0.9473 - val_loss: 8.1379 - val_acc: 0.0946\n",
      "Epoch 17/30\n",
      "6660/6680 [============================>.] - ETA: 0s - loss: 0.2120 - acc: 0.9503Epoch 00017: val_loss did not improve\n",
      "6680/6680 [==============================] - 31s 5ms/step - loss: 0.2116 - acc: 0.9503 - val_loss: 8.7076 - val_acc: 0.0970\n",
      "Epoch 18/30\n",
      "6660/6680 [============================>.] - ETA: 0s - loss: 0.2032 - acc: 0.9539Epoch 00018: val_loss did not improve\n",
      "6680/6680 [==============================] - 31s 5ms/step - loss: 0.2027 - acc: 0.9540 - val_loss: 8.0842 - val_acc: 0.0958\n",
      "Epoch 19/30\n",
      "6660/6680 [============================>.] - ETA: 0s - loss: 0.1840 - acc: 0.9593Epoch 00019: val_loss did not improve\n",
      "6680/6680 [==============================] - 31s 5ms/step - loss: 0.1838 - acc: 0.9594 - val_loss: 8.8453 - val_acc: 0.0862\n",
      "Epoch 20/30\n",
      "6660/6680 [============================>.] - ETA: 0s - loss: 0.2084 - acc: 0.9530Epoch 00020: val_loss did not improve\n",
      "6680/6680 [==============================] - 31s 5ms/step - loss: 0.2078 - acc: 0.9531 - val_loss: 9.5731 - val_acc: 0.0970\n",
      "Epoch 21/30\n",
      "6660/6680 [============================>.] - ETA: 0s - loss: 0.2023 - acc: 0.9527Epoch 00021: val_loss did not improve\n",
      "6680/6680 [==============================] - 31s 5ms/step - loss: 0.2020 - acc: 0.9528 - val_loss: 8.5075 - val_acc: 0.0886\n",
      "Epoch 22/30\n",
      "6660/6680 [============================>.] - ETA: 0s - loss: 0.2117 - acc: 0.9523Epoch 00022: val_loss did not improve\n",
      "6680/6680 [==============================] - 31s 5ms/step - loss: 0.2115 - acc: 0.9522 - val_loss: 8.5378 - val_acc: 0.0862\n",
      "Epoch 23/30\n",
      "6660/6680 [============================>.] - ETA: 0s - loss: 0.1953 - acc: 0.9566Epoch 00023: val_loss did not improve\n",
      "6680/6680 [==============================] - 31s 5ms/step - loss: 0.1977 - acc: 0.9564 - val_loss: 8.4871 - val_acc: 0.0695\n",
      "Epoch 24/30\n",
      "6660/6680 [============================>.] - ETA: 0s - loss: 0.2141 - acc: 0.9548Epoch 00024: val_loss did not improve\n",
      "6680/6680 [==============================] - 31s 5ms/step - loss: 0.2142 - acc: 0.9548 - val_loss: 8.2489 - val_acc: 0.0946\n",
      "Epoch 25/30\n",
      "6660/6680 [============================>.] - ETA: 0s - loss: 0.2156 - acc: 0.9526Epoch 00025: val_loss did not improve\n",
      "6680/6680 [==============================] - 31s 5ms/step - loss: 0.2151 - acc: 0.9527 - val_loss: 8.7627 - val_acc: 0.0778\n",
      "Epoch 26/30\n",
      "6660/6680 [============================>.] - ETA: 0s - loss: 0.2256 - acc: 0.9527Epoch 00026: val_loss did not improve\n",
      "6680/6680 [==============================] - 31s 5ms/step - loss: 0.2252 - acc: 0.9527 - val_loss: 9.4785 - val_acc: 0.0934\n",
      "Epoch 27/30\n",
      "6660/6680 [============================>.] - ETA: 0s - loss: 0.2075 - acc: 0.9536Epoch 00027: val_loss did not improve\n",
      "6680/6680 [==============================] - 31s 5ms/step - loss: 0.2080 - acc: 0.9534 - val_loss: 8.7358 - val_acc: 0.0886\n",
      "Epoch 28/30\n",
      "6660/6680 [============================>.] - ETA: 0s - loss: 0.2244 - acc: 0.9547Epoch 00028: val_loss did not improve\n",
      "6680/6680 [==============================] - 31s 5ms/step - loss: 0.2245 - acc: 0.9545 - val_loss: 9.5191 - val_acc: 0.1042\n",
      "Epoch 29/30\n",
      "6660/6680 [============================>.] - ETA: 0s - loss: 0.2201 - acc: 0.9521Epoch 00029: val_loss did not improve\n",
      "6680/6680 [==============================] - 31s 5ms/step - loss: 0.2200 - acc: 0.9522 - val_loss: 7.6471 - val_acc: 0.0778\n",
      "Epoch 30/30\n",
      "6660/6680 [============================>.] - ETA: 0s - loss: 0.2190 - acc: 0.9566Epoch 00030: val_loss did not improve\n",
      "6680/6680 [==============================] - 31s 5ms/step - loss: 0.2184 - acc: 0.9567 - val_loss: 9.9241 - val_acc: 0.0946\n"
     ]
    },
    {
     "data": {
      "text/plain": [
       "<keras.callbacks.History at 0x7f85a8ca15c0>"
      ]
     },
     "execution_count": 15,
     "metadata": {},
     "output_type": "execute_result"
    }
   ],
   "source": [
    "from keras.callbacks import ModelCheckpoint  \n",
    "\n",
    "### TODO: specify the number of epochs that you would like to use to train the model.\n",
    "\n",
    "epochs = 30\n",
    "\n",
    "### Do NOT modify the code below this line.\n",
    "\n",
    "checkpointer = ModelCheckpoint(filepath='saved_models/weights.best.from_scratch.hdf5', \n",
    "                               verbose=1, save_best_only=True)\n",
    "\n",
    "model.fit(train_tensors, train_targets, \n",
    "          validation_data=(valid_tensors, valid_targets),\n",
    "          epochs=epochs, batch_size=20, callbacks=[checkpointer], verbose=1)"
   ]
  },
  {
   "cell_type": "markdown",
   "metadata": {},
   "source": [
    "### Load the Model with the Best Validation Loss"
   ]
  },
  {
   "cell_type": "code",
   "execution_count": 16,
   "metadata": {},
   "outputs": [],
   "source": [
    "model.load_weights('saved_models/weights.best.from_scratch.hdf5')"
   ]
  },
  {
   "cell_type": "markdown",
   "metadata": {},
   "source": [
    "### Test the Model\n",
    "\n",
    "Try out your model on the test dataset of dog images.  Ensure that your test accuracy is greater than 1%."
   ]
  },
  {
   "cell_type": "code",
   "execution_count": 17,
   "metadata": {},
   "outputs": [
    {
     "name": "stdout",
     "output_type": "stream",
     "text": [
      "Test accuracy: 7.7751%\n"
     ]
    }
   ],
   "source": [
    "# get index of predicted dog breed for each image in test set\n",
    "dog_breed_predictions = [np.argmax(model.predict(np.expand_dims(tensor, axis=0))) for tensor in test_tensors]\n",
    "\n",
    "# report test accuracy\n",
    "test_accuracy = 100*np.sum(np.array(dog_breed_predictions)==np.argmax(test_targets, axis=1))/len(dog_breed_predictions)\n",
    "print('Test accuracy: %.4f%%' % test_accuracy)"
   ]
  },
  {
   "cell_type": "markdown",
   "metadata": {},
   "source": [
    "---\n",
    "<a id='step4'></a>\n",
    "## Step 4: Use a CNN to Classify Dog Breeds\n",
    "\n",
    "To reduce training time without sacrificing accuracy, we show you how to train a CNN using transfer learning.  In the following step, you will get a chance to use transfer learning to train your own CNN.\n",
    "\n",
    "### Obtain Bottleneck Features"
   ]
  },
  {
   "cell_type": "code",
   "execution_count": 18,
   "metadata": {},
   "outputs": [],
   "source": [
    "bottleneck_features = np.load('bottleneck_features/DogVGG16Data.npz')\n",
    "train_VGG16 = bottleneck_features['train']\n",
    "valid_VGG16 = bottleneck_features['valid']\n",
    "test_VGG16 = bottleneck_features['test']"
   ]
  },
  {
   "cell_type": "markdown",
   "metadata": {},
   "source": [
    "### Model Architecture\n",
    "\n",
    "The model uses the the pre-trained VGG-16 model as a fixed feature extractor, where the last convolutional output of VGG-16 is fed as input to our model.  We only add a global average pooling layer and a fully connected layer, where the latter contains one node for each dog category and is equipped with a softmax."
   ]
  },
  {
   "cell_type": "code",
   "execution_count": 19,
   "metadata": {},
   "outputs": [
    {
     "name": "stdout",
     "output_type": "stream",
     "text": [
      "_________________________________________________________________\n",
      "Layer (type)                 Output Shape              Param #   \n",
      "=================================================================\n",
      "global_average_pooling2d_1 ( (None, 512)               0         \n",
      "_________________________________________________________________\n",
      "dense_3 (Dense)              (None, 133)               68229     \n",
      "=================================================================\n",
      "Total params: 68,229\n",
      "Trainable params: 68,229\n",
      "Non-trainable params: 0\n",
      "_________________________________________________________________\n"
     ]
    }
   ],
   "source": [
    "VGG16_model = Sequential()\n",
    "VGG16_model.add(GlobalAveragePooling2D(input_shape=train_VGG16.shape[1:]))\n",
    "VGG16_model.add(Dense(133, activation='softmax'))\n",
    "\n",
    "VGG16_model.summary()"
   ]
  },
  {
   "cell_type": "markdown",
   "metadata": {},
   "source": [
    "### Compile the Model"
   ]
  },
  {
   "cell_type": "code",
   "execution_count": 20,
   "metadata": {},
   "outputs": [],
   "source": [
    "VGG16_model.compile(loss='categorical_crossentropy', optimizer='rmsprop', metrics=['accuracy'])"
   ]
  },
  {
   "cell_type": "markdown",
   "metadata": {},
   "source": [
    "### Train the Model"
   ]
  },
  {
   "cell_type": "code",
   "execution_count": 21,
   "metadata": {},
   "outputs": [
    {
     "name": "stdout",
     "output_type": "stream",
     "text": [
      "Train on 6680 samples, validate on 835 samples\n",
      "Epoch 1/20\n",
      "6500/6680 [============================>.] - ETA: 0s - loss: 12.2198 - acc: 0.1254Epoch 00001: val_loss improved from inf to 10.59384, saving model to saved_models/weights.best.VGG16.hdf5\n",
      "6680/6680 [==============================] - 2s 341us/step - loss: 12.1794 - acc: 0.1286 - val_loss: 10.5938 - val_acc: 0.2263\n",
      "Epoch 2/20\n",
      "6540/6680 [============================>.] - ETA: 0s - loss: 10.0109 - acc: 0.2838Epoch 00002: val_loss improved from 10.59384 to 9.95258, saving model to saved_models/weights.best.VGG16.hdf5\n",
      "6680/6680 [==============================] - 2s 263us/step - loss: 10.0094 - acc: 0.2843 - val_loss: 9.9526 - val_acc: 0.2886\n",
      "Epoch 3/20\n",
      "6460/6680 [============================>.] - ETA: 0s - loss: 9.5824 - acc: 0.3463Epoch 00003: val_loss improved from 9.95258 to 9.75121, saving model to saved_models/weights.best.VGG16.hdf5\n",
      "6680/6680 [==============================] - 2s 253us/step - loss: 9.5755 - acc: 0.3472 - val_loss: 9.7512 - val_acc: 0.3269\n",
      "Epoch 4/20\n",
      "6480/6680 [============================>.] - ETA: 0s - loss: 9.3668 - acc: 0.3735Epoch 00004: val_loss did not improve\n",
      "6680/6680 [==============================] - 2s 263us/step - loss: 9.4176 - acc: 0.3705 - val_loss: 9.7871 - val_acc: 0.3269\n",
      "Epoch 5/20\n",
      "6560/6680 [============================>.] - ETA: 0s - loss: 9.2770 - acc: 0.3904Epoch 00005: val_loss improved from 9.75121 to 9.54077, saving model to saved_models/weights.best.VGG16.hdf5\n",
      "6680/6680 [==============================] - 2s 271us/step - loss: 9.2690 - acc: 0.3903 - val_loss: 9.5408 - val_acc: 0.3473\n",
      "Epoch 6/20\n",
      "6620/6680 [============================>.] - ETA: 0s - loss: 9.1029 - acc: 0.4047Epoch 00006: val_loss improved from 9.54077 to 9.39049, saving model to saved_models/weights.best.VGG16.hdf5\n",
      "6680/6680 [==============================] - 2s 270us/step - loss: 9.0751 - acc: 0.4064 - val_loss: 9.3905 - val_acc: 0.3533\n",
      "Epoch 7/20\n",
      "6600/6680 [============================>.] - ETA: 0s - loss: 8.8062 - acc: 0.4248Epoch 00007: val_loss improved from 9.39049 to 9.35061, saving model to saved_models/weights.best.VGG16.hdf5\n",
      "6680/6680 [==============================] - 2s 273us/step - loss: 8.7999 - acc: 0.4249 - val_loss: 9.3506 - val_acc: 0.3473\n",
      "Epoch 8/20\n",
      "6640/6680 [============================>.] - ETA: 0s - loss: 8.6606 - acc: 0.4435Epoch 00008: val_loss improved from 9.35061 to 9.12223, saving model to saved_models/weights.best.VGG16.hdf5\n",
      "6680/6680 [==============================] - 2s 267us/step - loss: 8.6696 - acc: 0.4430 - val_loss: 9.1222 - val_acc: 0.3760\n",
      "Epoch 9/20\n",
      "6660/6680 [============================>.] - ETA: 0s - loss: 8.6012 - acc: 0.4523Epoch 00009: val_loss did not improve\n",
      "6680/6680 [==============================] - 2s 264us/step - loss: 8.6068 - acc: 0.4519 - val_loss: 9.1544 - val_acc: 0.3605\n",
      "Epoch 10/20\n",
      "6620/6680 [============================>.] - ETA: 0s - loss: 8.5531 - acc: 0.4574Epoch 00010: val_loss improved from 9.12223 to 9.06425, saving model to saved_models/weights.best.VGG16.hdf5\n",
      "6680/6680 [==============================] - 2s 265us/step - loss: 8.5535 - acc: 0.4575 - val_loss: 9.0642 - val_acc: 0.3725\n",
      "Epoch 11/20\n",
      "6640/6680 [============================>.] - ETA: 0s - loss: 8.5285 - acc: 0.4622Epoch 00011: val_loss improved from 9.06425 to 9.01275, saving model to saved_models/weights.best.VGG16.hdf5\n",
      "6680/6680 [==============================] - 2s 278us/step - loss: 8.5360 - acc: 0.4617 - val_loss: 9.0127 - val_acc: 0.3904\n",
      "Epoch 12/20\n",
      "6520/6680 [============================>.] - ETA: 0s - loss: 8.4390 - acc: 0.4672Epoch 00012: val_loss improved from 9.01275 to 8.94615, saving model to saved_models/weights.best.VGG16.hdf5\n",
      "6680/6680 [==============================] - 2s 260us/step - loss: 8.4430 - acc: 0.4668 - val_loss: 8.9461 - val_acc: 0.3916\n",
      "Epoch 13/20\n",
      "6440/6680 [===========================>..] - ETA: 0s - loss: 8.3726 - acc: 0.4724Epoch 00013: val_loss improved from 8.94615 to 8.82793, saving model to saved_models/weights.best.VGG16.hdf5\n",
      "6680/6680 [==============================] - 2s 253us/step - loss: 8.3722 - acc: 0.4720 - val_loss: 8.8279 - val_acc: 0.4108\n",
      "Epoch 14/20\n",
      "6660/6680 [============================>.] - ETA: 0s - loss: 8.2696 - acc: 0.4733Epoch 00014: val_loss improved from 8.82793 to 8.74155, saving model to saved_models/weights.best.VGG16.hdf5\n",
      "6680/6680 [==============================] - 2s 254us/step - loss: 8.2762 - acc: 0.4729 - val_loss: 8.7415 - val_acc: 0.4036\n",
      "Epoch 15/20\n",
      "6620/6680 [============================>.] - ETA: 0s - loss: 8.1532 - acc: 0.4841Epoch 00015: val_loss improved from 8.74155 to 8.71087, saving model to saved_models/weights.best.VGG16.hdf5\n",
      "6680/6680 [==============================] - 2s 255us/step - loss: 8.1527 - acc: 0.4841 - val_loss: 8.7109 - val_acc: 0.4108\n",
      "Epoch 16/20\n",
      "6500/6680 [============================>.] - ETA: 0s - loss: 8.1115 - acc: 0.4912Epoch 00016: val_loss improved from 8.71087 to 8.70779, saving model to saved_models/weights.best.VGG16.hdf5\n",
      "6680/6680 [==============================] - 2s 262us/step - loss: 8.1110 - acc: 0.4913 - val_loss: 8.7078 - val_acc: 0.4108\n",
      "Epoch 17/20\n",
      "6440/6680 [===========================>..] - ETA: 0s - loss: 8.0713 - acc: 0.4896Epoch 00017: val_loss improved from 8.70779 to 8.53822, saving model to saved_models/weights.best.VGG16.hdf5\n",
      "6680/6680 [==============================] - 2s 271us/step - loss: 8.0465 - acc: 0.4910 - val_loss: 8.5382 - val_acc: 0.4132\n",
      "Epoch 18/20\n",
      "6480/6680 [============================>.] - ETA: 0s - loss: 7.9588 - acc: 0.4971Epoch 00018: val_loss did not improve\n",
      "6680/6680 [==============================] - 2s 252us/step - loss: 7.9407 - acc: 0.4981 - val_loss: 8.6142 - val_acc: 0.4072\n",
      "Epoch 19/20\n",
      "6600/6680 [============================>.] - ETA: 0s - loss: 7.8637 - acc: 0.5027Epoch 00019: val_loss improved from 8.53822 to 8.52719, saving model to saved_models/weights.best.VGG16.hdf5\n",
      "6680/6680 [==============================] - 2s 261us/step - loss: 7.8677 - acc: 0.5025 - val_loss: 8.5272 - val_acc: 0.4072\n",
      "Epoch 20/20\n",
      "6460/6680 [============================>.] - ETA: 0s - loss: 7.7217 - acc: 0.5107Epoch 00020: val_loss improved from 8.52719 to 8.33368, saving model to saved_models/weights.best.VGG16.hdf5\n",
      "6680/6680 [==============================] - 2s 265us/step - loss: 7.7006 - acc: 0.5114 - val_loss: 8.3337 - val_acc: 0.4287\n"
     ]
    },
    {
     "data": {
      "text/plain": [
       "<keras.callbacks.History at 0x7f859ad089b0>"
      ]
     },
     "execution_count": 21,
     "metadata": {},
     "output_type": "execute_result"
    }
   ],
   "source": [
    "checkpointer = ModelCheckpoint(filepath='saved_models/weights.best.VGG16.hdf5', \n",
    "                               verbose=1, save_best_only=True)\n",
    "\n",
    "VGG16_model.fit(train_VGG16, train_targets, \n",
    "          validation_data=(valid_VGG16, valid_targets),\n",
    "          epochs=20, batch_size=20, callbacks=[checkpointer], verbose=1)"
   ]
  },
  {
   "cell_type": "markdown",
   "metadata": {},
   "source": [
    "### Load the Model with the Best Validation Loss"
   ]
  },
  {
   "cell_type": "code",
   "execution_count": 22,
   "metadata": {},
   "outputs": [],
   "source": [
    "VGG16_model.load_weights('saved_models/weights.best.VGG16.hdf5')"
   ]
  },
  {
   "cell_type": "markdown",
   "metadata": {},
   "source": [
    "### Test the Model\n",
    "\n",
    "Now, we can use the CNN to test how well it identifies breed within our test dataset of dog images.  We print the test accuracy below."
   ]
  },
  {
   "cell_type": "code",
   "execution_count": 23,
   "metadata": {},
   "outputs": [
    {
     "name": "stdout",
     "output_type": "stream",
     "text": [
      "Test accuracy: 41.5072%\n"
     ]
    }
   ],
   "source": [
    "# get index of predicted dog breed for each image in test set\n",
    "VGG16_predictions = [np.argmax(VGG16_model.predict(np.expand_dims(feature, axis=0))) for feature in test_VGG16]\n",
    "\n",
    "# report test accuracy\n",
    "test_accuracy = 100*np.sum(np.array(VGG16_predictions)==np.argmax(test_targets, axis=1))/len(VGG16_predictions)\n",
    "print('Test accuracy: %.4f%%' % test_accuracy)"
   ]
  },
  {
   "cell_type": "markdown",
   "metadata": {},
   "source": [
    "### Predict Dog Breed with the Model"
   ]
  },
  {
   "cell_type": "code",
   "execution_count": 24,
   "metadata": {},
   "outputs": [],
   "source": [
    "from extract_bottleneck_features import *\n",
    "\n",
    "def VGG16_predict_breed(img_path):\n",
    "    # extract bottleneck features\n",
    "    bottleneck_feature = extract_VGG16(path_to_tensor(img_path))\n",
    "    # obtain predicted vector\n",
    "    predicted_vector = VGG16_model.predict(bottleneck_feature)\n",
    "    # return dog breed that is predicted by the model\n",
    "    return dog_names[np.argmax(predicted_vector)]"
   ]
  },
  {
   "cell_type": "markdown",
   "metadata": {},
   "source": [
    "---\n",
    "<a id='step5'></a>\n",
    "## Step 5: Create a CNN to Classify Dog Breeds (using Transfer Learning)\n",
    "\n",
    "You will now use transfer learning to create a CNN that can identify dog breed from images.  Your CNN must attain at least 60% accuracy on the test set.\n",
    "\n",
    "In Step 4, we used transfer learning to create a CNN using VGG-16 bottleneck features.  In this section, you must use the bottleneck features from a different pre-trained model.  To make things easier for you, we have pre-computed the features for all of the networks that are currently available in Keras:\n",
    "- [VGG-19](https://s3-us-west-1.amazonaws.com/udacity-aind/dog-project/DogVGG19Data.npz) bottleneck features\n",
    "- [ResNet-50](https://s3-us-west-1.amazonaws.com/udacity-aind/dog-project/DogResnet50Data.npz) bottleneck features\n",
    "- [Inception](https://s3-us-west-1.amazonaws.com/udacity-aind/dog-project/DogInceptionV3Data.npz) bottleneck features\n",
    "- [Xception](https://s3-us-west-1.amazonaws.com/udacity-aind/dog-project/DogXceptionData.npz) bottleneck features\n",
    "\n",
    "The files are encoded as such:\n",
    "\n",
    "    Dog{network}Data.npz\n",
    "    \n",
    "where `{network}`, in the above filename, can be one of `VGG19`, `Resnet50`, `InceptionV3`, or `Xception`.  Pick one of the above architectures, download the corresponding bottleneck features, and store the downloaded file in the `bottleneck_features/` folder in the repository.\n",
    "\n",
    "### (IMPLEMENTATION) Obtain Bottleneck Features\n",
    "\n",
    "In the code block below, extract the bottleneck features corresponding to the train, test, and validation sets by running the following:\n",
    "\n",
    "    bottleneck_features = np.load('bottleneck_features/Dog{network}Data.npz')\n",
    "    train_{network} = bottleneck_features['train']\n",
    "    valid_{network} = bottleneck_features['valid']\n",
    "    test_{network} = bottleneck_features['test']"
   ]
  },
  {
   "cell_type": "code",
   "execution_count": 25,
   "metadata": {},
   "outputs": [],
   "source": [
    "### TODO: Obtain bottleneck features from another pre-trained CNN.\n",
    "bottleneck_features = np.load('/data/bottleneck_features/DogXceptionData.npz')\n",
    "train_Xception = bottleneck_features['train']\n",
    "valid_Xception = bottleneck_features['valid']\n",
    "test_Xception = bottleneck_features['test']"
   ]
  },
  {
   "cell_type": "markdown",
   "metadata": {},
   "source": [
    "### (IMPLEMENTATION) Model Architecture\n",
    "\n",
    "Create a CNN to classify dog breed.  At the end of your code cell block, summarize the layers of your model by executing the line:\n",
    "    \n",
    "        <your model's name>.summary()\n",
    "   \n",
    "__Question 5:__ Outline the steps you took to get to your final CNN architecture and your reasoning at each step.  Describe why you think the architecture is suitable for the current problem.\n",
    "\n",
    "__Answer:__ \n",
    "\n",
    "*The end of the network is sliced off and a fully connected layer that matches the number of classes in the new data set is added as the new data set is small and similar to the original training data. \n",
    "\n",
    "*The weights of the new fully connected layer are randomized;\n",
    "\n",
    "*All the weights from the pre-trained network are frozen.\n",
    "\n",
    "*The network is then finally  trained to update the weights of the new fully connected layer. \n",
    "\n",
    "*Overall, I have used the Xception model which gave the best result (96% accuracy and 95% with ResNet-50).\n",
    "\n",
    "*I've also added a fully connected layer with 500 nodes and a ReLU activation function to detect more patterns and a Dropout to avoid overfitting.\n",
    "\n",
    "\n",
    "\n"
   ]
  },
  {
   "cell_type": "code",
   "execution_count": 26,
   "metadata": {},
   "outputs": [
    {
     "name": "stdout",
     "output_type": "stream",
     "text": [
      "_________________________________________________________________\n",
      "Layer (type)                 Output Shape              Param #   \n",
      "=================================================================\n",
      "global_average_pooling2d_2 ( (None, 2048)              0         \n",
      "_________________________________________________________________\n",
      "dense_4 (Dense)              (None, 500)               1024500   \n",
      "_________________________________________________________________\n",
      "dropout_3 (Dropout)          (None, 500)               0         \n",
      "_________________________________________________________________\n",
      "dense_5 (Dense)              (None, 133)               66633     \n",
      "=================================================================\n",
      "Total params: 1,091,133\n",
      "Trainable params: 1,091,133\n",
      "Non-trainable params: 0\n",
      "_________________________________________________________________\n"
     ]
    }
   ],
   "source": [
    "### TODO: Define your architecture.\n",
    "from keras.layers import Dropout\n",
    "\n",
    "Xception_model = Sequential()\n",
    "Xception_model.add(GlobalAveragePooling2D(input_shape=train_Xception.shape[1:]))\n",
    "Xception_model.add(Dense(500, activation='relu'))\n",
    "Xception_model.add(Dropout(0.5))\n",
    "Xception_model.add(Dense(133, activation='softmax'))\n",
    "\n",
    "Xception_model.summary()"
   ]
  },
  {
   "cell_type": "markdown",
   "metadata": {},
   "source": [
    "### (IMPLEMENTATION) Compile the Model"
   ]
  },
  {
   "cell_type": "code",
   "execution_count": 27,
   "metadata": {},
   "outputs": [],
   "source": [
    "### TODO: Compile the model.\n",
    "Xception_model.compile(loss='categorical_crossentropy', optimizer='rmsprop', metrics=['accuracy'])"
   ]
  },
  {
   "cell_type": "markdown",
   "metadata": {},
   "source": [
    "### (IMPLEMENTATION) Train the Model\n",
    "\n",
    "Train your model in the code cell below.  Use model checkpointing to save the model that attains the best validation loss.  \n",
    "\n",
    "You are welcome to [augment the training data](https://blog.keras.io/building-powerful-image-classification-models-using-very-little-data.html), but this is not a requirement. "
   ]
  },
  {
   "cell_type": "code",
   "execution_count": 28,
   "metadata": {},
   "outputs": [
    {
     "name": "stdout",
     "output_type": "stream",
     "text": [
      "Train on 6680 samples, validate on 835 samples\n",
      "Epoch 1/50\n",
      "6620/6680 [============================>.] - ETA: 0s - loss: 1.6176 - acc: 0.6109Epoch 00001: val_loss improved from inf to 0.63768, saving model to saved_models/weights.best.Xception.hdf5\n",
      "6680/6680 [==============================] - 4s 570us/step - loss: 1.6099 - acc: 0.6120 - val_loss: 0.6377 - val_acc: 0.7964\n",
      "Epoch 2/50\n",
      "6640/6680 [============================>.] - ETA: 0s - loss: 0.7313 - acc: 0.7887Epoch 00002: val_loss improved from 0.63768 to 0.59968, saving model to saved_models/weights.best.Xception.hdf5\n",
      "6680/6680 [==============================] - 3s 481us/step - loss: 0.7292 - acc: 0.7891 - val_loss: 0.5997 - val_acc: 0.8156\n",
      "Epoch 3/50\n",
      "6600/6680 [============================>.] - ETA: 0s - loss: 0.6068 - acc: 0.8192Epoch 00003: val_loss improved from 0.59968 to 0.59323, saving model to saved_models/weights.best.Xception.hdf5\n",
      "6680/6680 [==============================] - 3s 477us/step - loss: 0.6069 - acc: 0.8192 - val_loss: 0.5932 - val_acc: 0.8180\n",
      "Epoch 4/50\n",
      "6600/6680 [============================>.] - ETA: 0s - loss: 0.5175 - acc: 0.8436Epoch 00004: val_loss improved from 0.59323 to 0.55251, saving model to saved_models/weights.best.Xception.hdf5\n",
      "6680/6680 [==============================] - 3s 483us/step - loss: 0.5169 - acc: 0.8436 - val_loss: 0.5525 - val_acc: 0.8311\n",
      "Epoch 5/50\n",
      "6620/6680 [============================>.] - ETA: 0s - loss: 0.4715 - acc: 0.8619Epoch 00005: val_loss did not improve\n",
      "6680/6680 [==============================] - 3s 476us/step - loss: 0.4703 - acc: 0.8618 - val_loss: 0.6032 - val_acc: 0.8455\n",
      "Epoch 6/50\n",
      "6580/6680 [============================>.] - ETA: 0s - loss: 0.4245 - acc: 0.8740Epoch 00006: val_loss did not improve\n",
      "6680/6680 [==============================] - 3s 487us/step - loss: 0.4261 - acc: 0.8735 - val_loss: 0.6541 - val_acc: 0.8299\n",
      "Epoch 7/50\n",
      "6620/6680 [============================>.] - ETA: 0s - loss: 0.3882 - acc: 0.8869Epoch 00007: val_loss did not improve\n",
      "6680/6680 [==============================] - 3s 516us/step - loss: 0.3872 - acc: 0.8868 - val_loss: 0.6065 - val_acc: 0.8539\n",
      "Epoch 8/50\n",
      "6620/6680 [============================>.] - ETA: 0s - loss: 0.3672 - acc: 0.8946Epoch 00008: val_loss did not improve\n",
      "6680/6680 [==============================] - 3s 476us/step - loss: 0.3672 - acc: 0.8946 - val_loss: 0.6919 - val_acc: 0.8263\n",
      "Epoch 9/50\n",
      "6580/6680 [============================>.] - ETA: 0s - loss: 0.3259 - acc: 0.9055Epoch 00009: val_loss did not improve\n",
      "6680/6680 [==============================] - 3s 487us/step - loss: 0.3272 - acc: 0.9049 - val_loss: 0.7160 - val_acc: 0.8371\n",
      "Epoch 10/50\n",
      "6660/6680 [============================>.] - ETA: 0s - loss: 0.3205 - acc: 0.9060Epoch 00010: val_loss did not improve\n",
      "6680/6680 [==============================] - 3s 484us/step - loss: 0.3199 - acc: 0.9060 - val_loss: 0.7008 - val_acc: 0.8419\n",
      "Epoch 11/50\n",
      "6580/6680 [============================>.] - ETA: 0s - loss: 0.2786 - acc: 0.9172Epoch 00011: val_loss did not improve\n",
      "6680/6680 [==============================] - 3s 490us/step - loss: 0.2777 - acc: 0.9169 - val_loss: 0.6960 - val_acc: 0.8515\n",
      "Epoch 12/50\n",
      "6660/6680 [============================>.] - ETA: 0s - loss: 0.2924 - acc: 0.9198Epoch 00012: val_loss did not improve\n",
      "6680/6680 [==============================] - 3s 474us/step - loss: 0.2929 - acc: 0.9199 - val_loss: 0.6890 - val_acc: 0.8443\n",
      "Epoch 13/50\n",
      "6640/6680 [============================>.] - ETA: 0s - loss: 0.2627 - acc: 0.9262Epoch 00013: val_loss did not improve\n",
      "6680/6680 [==============================] - 3s 471us/step - loss: 0.2635 - acc: 0.9257 - val_loss: 0.7087 - val_acc: 0.8431\n",
      "Epoch 14/50\n",
      "6580/6680 [============================>.] - ETA: 0s - loss: 0.2522 - acc: 0.9304Epoch 00014: val_loss did not improve\n",
      "6680/6680 [==============================] - 3s 464us/step - loss: 0.2592 - acc: 0.9289 - val_loss: 0.8041 - val_acc: 0.8407\n",
      "Epoch 15/50\n",
      "6640/6680 [============================>.] - ETA: 0s - loss: 0.2415 - acc: 0.9292Epoch 00015: val_loss did not improve\n",
      "6680/6680 [==============================] - 3s 480us/step - loss: 0.2407 - acc: 0.9292 - val_loss: 0.8483 - val_acc: 0.8371\n",
      "Epoch 16/50\n",
      "6580/6680 [============================>.] - ETA: 0s - loss: 0.2449 - acc: 0.9309Epoch 00016: val_loss did not improve\n",
      "6680/6680 [==============================] - 3s 480us/step - loss: 0.2474 - acc: 0.9308 - val_loss: 0.7531 - val_acc: 0.8467\n",
      "Epoch 17/50\n",
      "6600/6680 [============================>.] - ETA: 0s - loss: 0.2196 - acc: 0.9345Epoch 00017: val_loss did not improve\n",
      "6680/6680 [==============================] - 3s 468us/step - loss: 0.2212 - acc: 0.9344 - val_loss: 0.8913 - val_acc: 0.8431\n",
      "Epoch 18/50\n",
      "6560/6680 [============================>.] - ETA: 0s - loss: 0.2129 - acc: 0.9396Epoch 00018: val_loss did not improve\n",
      "6680/6680 [==============================] - 3s 483us/step - loss: 0.2137 - acc: 0.9398 - val_loss: 0.8802 - val_acc: 0.8347\n",
      "Epoch 19/50\n",
      "6660/6680 [============================>.] - ETA: 0s - loss: 0.2093 - acc: 0.9402Epoch 00019: val_loss did not improve\n",
      "6680/6680 [==============================] - 3s 473us/step - loss: 0.2093 - acc: 0.9403 - val_loss: 0.8667 - val_acc: 0.8467\n",
      "Epoch 20/50\n",
      "6580/6680 [============================>.] - ETA: 0s - loss: 0.1974 - acc: 0.9464Epoch 00020: val_loss did not improve\n",
      "6680/6680 [==============================] - 3s 466us/step - loss: 0.1960 - acc: 0.9467 - val_loss: 0.8182 - val_acc: 0.8551\n",
      "Epoch 21/50\n",
      "6620/6680 [============================>.] - ETA: 0s - loss: 0.2032 - acc: 0.9443Epoch 00021: val_loss did not improve\n",
      "6680/6680 [==============================] - 3s 471us/step - loss: 0.2022 - acc: 0.9445 - val_loss: 0.9242 - val_acc: 0.8443\n",
      "Epoch 22/50\n",
      "6640/6680 [============================>.] - ETA: 0s - loss: 0.1956 - acc: 0.9461Epoch 00022: val_loss did not improve\n",
      "6680/6680 [==============================] - 3s 488us/step - loss: 0.1961 - acc: 0.9458 - val_loss: 0.8720 - val_acc: 0.8539\n",
      "Epoch 23/50\n",
      "6620/6680 [============================>.] - ETA: 0s - loss: 0.1715 - acc: 0.9517Epoch 00023: val_loss did not improve\n",
      "6680/6680 [==============================] - 3s 481us/step - loss: 0.1719 - acc: 0.9516 - val_loss: 1.0147 - val_acc: 0.8383\n",
      "Epoch 24/50\n",
      "6620/6680 [============================>.] - ETA: 0s - loss: 0.1753 - acc: 0.9536Epoch 00024: val_loss did not improve\n",
      "6680/6680 [==============================] - 3s 472us/step - loss: 0.1740 - acc: 0.9540 - val_loss: 0.9806 - val_acc: 0.8419\n",
      "Epoch 25/50\n",
      "6640/6680 [============================>.] - ETA: 0s - loss: 0.1706 - acc: 0.9542Epoch 00025: val_loss did not improve\n",
      "6680/6680 [==============================] - 3s 484us/step - loss: 0.1700 - acc: 0.9543 - val_loss: 0.9913 - val_acc: 0.8431\n",
      "Epoch 26/50\n",
      "6560/6680 [============================>.] - ETA: 0s - loss: 0.1537 - acc: 0.9572Epoch 00026: val_loss did not improve\n",
      "6680/6680 [==============================] - 3s 505us/step - loss: 0.1534 - acc: 0.9570 - val_loss: 1.0826 - val_acc: 0.8347\n",
      "Epoch 27/50\n",
      "6620/6680 [============================>.] - ETA: 0s - loss: 0.1694 - acc: 0.9553Epoch 00027: val_loss did not improve\n",
      "6680/6680 [==============================] - 3s 471us/step - loss: 0.1701 - acc: 0.9554 - val_loss: 1.0377 - val_acc: 0.8311\n",
      "Epoch 28/50\n",
      "6580/6680 [============================>.] - ETA: 0s - loss: 0.1549 - acc: 0.9593Epoch 00028: val_loss did not improve\n",
      "6680/6680 [==============================] - 3s 478us/step - loss: 0.1548 - acc: 0.9596 - val_loss: 1.0991 - val_acc: 0.8407\n",
      "Epoch 29/50\n",
      "6640/6680 [============================>.] - ETA: 0s - loss: 0.1572 - acc: 0.9581Epoch 00029: val_loss did not improve\n",
      "6680/6680 [==============================] - 3s 472us/step - loss: 0.1572 - acc: 0.9581 - val_loss: 1.0778 - val_acc: 0.8503\n",
      "Epoch 30/50\n",
      "6620/6680 [============================>.] - ETA: 0s - loss: 0.1618 - acc: 0.9597Epoch 00030: val_loss did not improve\n",
      "6680/6680 [==============================] - 3s 470us/step - loss: 0.1614 - acc: 0.9597 - val_loss: 1.0784 - val_acc: 0.8407\n",
      "Epoch 31/50\n",
      "6620/6680 [============================>.] - ETA: 0s - loss: 0.1480 - acc: 0.9594Epoch 00031: val_loss did not improve\n",
      "6680/6680 [==============================] - 3s 480us/step - loss: 0.1473 - acc: 0.9594 - val_loss: 1.0635 - val_acc: 0.8599\n"
     ]
    },
    {
     "name": "stdout",
     "output_type": "stream",
     "text": [
      "Epoch 32/50\n",
      "6580/6680 [============================>.] - ETA: 0s - loss: 0.1438 - acc: 0.9612Epoch 00032: val_loss did not improve\n",
      "6680/6680 [==============================] - 3s 503us/step - loss: 0.1448 - acc: 0.9611 - val_loss: 1.1458 - val_acc: 0.8323\n",
      "Epoch 33/50\n",
      "6640/6680 [============================>.] - ETA: 0s - loss: 0.1385 - acc: 0.9631Epoch 00033: val_loss did not improve\n",
      "6680/6680 [==============================] - 3s 471us/step - loss: 0.1422 - acc: 0.9627 - val_loss: 1.1216 - val_acc: 0.8491\n",
      "Epoch 34/50\n",
      "6620/6680 [============================>.] - ETA: 0s - loss: 0.1522 - acc: 0.9630Epoch 00034: val_loss did not improve\n",
      "6680/6680 [==============================] - 3s 496us/step - loss: 0.1532 - acc: 0.9629 - val_loss: 1.1803 - val_acc: 0.8455\n",
      "Epoch 35/50\n",
      "6560/6680 [============================>.] - ETA: 0s - loss: 0.1427 - acc: 0.9663Epoch 00035: val_loss did not improve\n",
      "6680/6680 [==============================] - 3s 471us/step - loss: 0.1432 - acc: 0.9665 - val_loss: 1.1823 - val_acc: 0.8539\n",
      "Epoch 36/50\n",
      "6640/6680 [============================>.] - ETA: 0s - loss: 0.1315 - acc: 0.9667Epoch 00036: val_loss did not improve\n",
      "6680/6680 [==============================] - 3s 470us/step - loss: 0.1307 - acc: 0.9669 - val_loss: 1.2054 - val_acc: 0.8311\n",
      "Epoch 37/50\n",
      "6660/6680 [============================>.] - ETA: 0s - loss: 0.1422 - acc: 0.9652Epoch 00037: val_loss did not improve\n",
      "6680/6680 [==============================] - 3s 471us/step - loss: 0.1418 - acc: 0.9653 - val_loss: 1.1810 - val_acc: 0.8503\n",
      "Epoch 38/50\n",
      "6580/6680 [============================>.] - ETA: 0s - loss: 0.1283 - acc: 0.9663Epoch 00038: val_loss did not improve\n",
      "6680/6680 [==============================] - 3s 475us/step - loss: 0.1270 - acc: 0.9666 - val_loss: 1.1593 - val_acc: 0.8443\n",
      "Epoch 39/50\n",
      "6660/6680 [============================>.] - ETA: 0s - loss: 0.1358 - acc: 0.9668Epoch 00039: val_loss did not improve\n",
      "6680/6680 [==============================] - 3s 479us/step - loss: 0.1358 - acc: 0.9668 - val_loss: 1.1430 - val_acc: 0.8431\n",
      "Epoch 40/50\n",
      "6620/6680 [============================>.] - ETA: 0s - loss: 0.1220 - acc: 0.9690Epoch 00040: val_loss did not improve\n",
      "6680/6680 [==============================] - 3s 471us/step - loss: 0.1217 - acc: 0.9690 - val_loss: 1.1877 - val_acc: 0.8551\n",
      "Epoch 41/50\n",
      "6620/6680 [============================>.] - ETA: 0s - loss: 0.1247 - acc: 0.9689Epoch 00041: val_loss did not improve\n",
      "6680/6680 [==============================] - 3s 482us/step - loss: 0.1241 - acc: 0.9689 - val_loss: 1.1899 - val_acc: 0.8455\n",
      "Epoch 42/50\n",
      "6560/6680 [============================>.] - ETA: 0s - loss: 0.1201 - acc: 0.9715Epoch 00042: val_loss did not improve\n",
      "6680/6680 [==============================] - 3s 503us/step - loss: 0.1187 - acc: 0.9716 - val_loss: 1.2344 - val_acc: 0.8443\n",
      "Epoch 43/50\n",
      "6620/6680 [============================>.] - ETA: 0s - loss: 0.1315 - acc: 0.9677Epoch 00043: val_loss did not improve\n",
      "6680/6680 [==============================] - 3s 491us/step - loss: 0.1326 - acc: 0.9674 - val_loss: 1.2098 - val_acc: 0.8395\n",
      "Epoch 44/50\n",
      "6620/6680 [============================>.] - ETA: 0s - loss: 0.1197 - acc: 0.9692Epoch 00044: val_loss did not improve\n",
      "6680/6680 [==============================] - 3s 474us/step - loss: 0.1187 - acc: 0.9695 - val_loss: 1.1835 - val_acc: 0.8383\n",
      "Epoch 45/50\n",
      "6620/6680 [============================>.] - ETA: 0s - loss: 0.1112 - acc: 0.9730Epoch 00045: val_loss did not improve\n",
      "6680/6680 [==============================] - 3s 474us/step - loss: 0.1104 - acc: 0.9732 - val_loss: 1.2670 - val_acc: 0.8455\n",
      "Epoch 46/50\n",
      "6640/6680 [============================>.] - ETA: 0s - loss: 0.1254 - acc: 0.9715Epoch 00046: val_loss did not improve\n",
      "6680/6680 [==============================] - 3s 477us/step - loss: 0.1249 - acc: 0.9716 - val_loss: 1.3070 - val_acc: 0.8275\n",
      "Epoch 47/50\n",
      "6620/6680 [============================>.] - ETA: 0s - loss: 0.1340 - acc: 0.9675Epoch 00047: val_loss did not improve\n",
      "6680/6680 [==============================] - 3s 469us/step - loss: 0.1335 - acc: 0.9677 - val_loss: 1.2229 - val_acc: 0.8443\n",
      "Epoch 48/50\n",
      "6600/6680 [============================>.] - ETA: 0s - loss: 0.1299 - acc: 0.9702Epoch 00048: val_loss did not improve\n",
      "6680/6680 [==============================] - 3s 476us/step - loss: 0.1292 - acc: 0.9701 - val_loss: 1.3193 - val_acc: 0.8347\n",
      "Epoch 49/50\n",
      "6660/6680 [============================>.] - ETA: 0s - loss: 0.1143 - acc: 0.9719Epoch 00049: val_loss did not improve\n",
      "6680/6680 [==============================] - 3s 476us/step - loss: 0.1140 - acc: 0.9720 - val_loss: 1.2034 - val_acc: 0.8467\n",
      "Epoch 50/50\n",
      "6620/6680 [============================>.] - ETA: 0s - loss: 0.1011 - acc: 0.9749Epoch 00050: val_loss did not improve\n",
      "6680/6680 [==============================] - 3s 474us/step - loss: 0.1022 - acc: 0.9747 - val_loss: 1.2643 - val_acc: 0.8491\n"
     ]
    },
    {
     "data": {
      "text/plain": [
       "<keras.callbacks.History at 0x7f859aa38a90>"
      ]
     },
     "execution_count": 28,
     "metadata": {},
     "output_type": "execute_result"
    }
   ],
   "source": [
    "### TODO: Train the model.\n",
    "from keras.callbacks import ModelCheckpoint \n",
    "\n",
    "checkpointer = ModelCheckpoint(filepath='saved_models/weights.best.Xception.hdf5', \n",
    "                               verbose=1, save_best_only=True)\n",
    "\n",
    "Xception_model.fit(train_Xception, train_targets, \n",
    "          validation_data=(valid_Xception, valid_targets),\n",
    "          epochs=50, batch_size=20, callbacks=[checkpointer], verbose=1)"
   ]
  },
  {
   "cell_type": "markdown",
   "metadata": {},
   "source": [
    "### (IMPLEMENTATION) Load the Model with the Best Validation Loss"
   ]
  },
  {
   "cell_type": "code",
   "execution_count": 29,
   "metadata": {},
   "outputs": [],
   "source": [
    "### TODO: Load the model weights with the best validation loss.\n",
    "Xception_model.load_weights('saved_models/weights.best.Xception.hdf5')\n"
   ]
  },
  {
   "cell_type": "markdown",
   "metadata": {},
   "source": [
    "### (IMPLEMENTATION) Test the Model\n",
    "\n",
    "Try out your model on the test dataset of dog images. Ensure that your test accuracy is greater than 60%."
   ]
  },
  {
   "cell_type": "code",
   "execution_count": 30,
   "metadata": {},
   "outputs": [
    {
     "name": "stdout",
     "output_type": "stream",
     "text": [
      "Test accuracy: 82.775%\n"
     ]
    }
   ],
   "source": [
    "### TODO: Calculate classification accuracy on the test dataset.\n",
    "Xception_predictions = [np.argmax(Xception_model.predict(np.expand_dims(feature, axis=0))) for feature in test_Xception]\n",
    "test_accuracy = 100*np.sum(np.array(Xception_predictions)==np.argmax(test_targets, axis=1))/len(Xception_predictions)\n",
    "print('Test accuracy: %.3f%%' % test_accuracy)"
   ]
  },
  {
   "cell_type": "markdown",
   "metadata": {},
   "source": [
    "### (IMPLEMENTATION) Predict Dog Breed with the Model\n",
    "\n",
    "Write a function that takes an image path as input and returns the dog breed (`Affenpinscher`, `Afghan_hound`, etc) that is predicted by your model.  \n",
    "\n",
    "Similar to the analogous function in Step 5, your function should have three steps:\n",
    "1. Extract the bottleneck features corresponding to the chosen CNN model.\n",
    "2. Supply the bottleneck features as input to the model to return the predicted vector.  Note that the argmax of this prediction vector gives the index of the predicted dog breed.\n",
    "3. Use the `dog_names` array defined in Step 0 of this notebook to return the corresponding breed.\n",
    "\n",
    "The functions to extract the bottleneck features can be found in `extract_bottleneck_features.py`, and they have been imported in an earlier code cell.  To obtain the bottleneck features corresponding to your chosen CNN architecture, you need to use the function\n",
    "\n",
    "    extract_{network}\n",
    "    \n",
    "where `{network}`, in the above filename, should be one of `VGG19`, `Resnet50`, `InceptionV3`, or `Xception`."
   ]
  },
  {
   "cell_type": "code",
   "execution_count": 31,
   "metadata": {},
   "outputs": [],
   "source": [
    "### TODO: Write a function that takes a path to an image as input\n",
    "### and returns the dog breed that is predicted by the model.\n",
    "def Xception_predict_breed(img_path):\n",
    "    # extract bottleneck features\n",
    "    bottleneck_feature = extract_Xception(path_to_tensor(img_path)) \n",
    "    # obtain predicted vector\n",
    "    predicted_vector = Xception_model.predict(bottleneck_feature)  \n",
    "    # return dog breed that is predicted by the model\n",
    "    return dog_names[np.argmax(predicted_vector)]                       "
   ]
  },
  {
   "cell_type": "markdown",
   "metadata": {},
   "source": [
    "---\n",
    "<a id='step6'></a>\n",
    "## Step 6: Write your Algorithm\n",
    "\n",
    "Write an algorithm that accepts a file path to an image and first determines whether the image contains a human, dog, or neither.  Then,\n",
    "- if a __dog__ is detected in the image, return the predicted breed.\n",
    "- if a __human__ is detected in the image, return the resembling dog breed.\n",
    "- if __neither__ is detected in the image, provide output that indicates an error.\n",
    "\n",
    "You are welcome to write your own functions for detecting humans and dogs in images, but feel free to use the `face_detector` and `dog_detector` functions developed above.  You are __required__ to use your CNN from Step 5 to predict dog breed.  \n",
    "\n",
    "A sample image and output for our algorithm is provided below, but feel free to design your own user experience!\n",
    "\n",
    "![Sample Human Output](images/sample_human_2.png)\n",
    "\n",
    "This photo looks like an Afghan Hound.\n",
    "### (IMPLEMENTATION) Write your Algorithm"
   ]
  },
  {
   "cell_type": "code",
   "execution_count": 32,
   "metadata": {},
   "outputs": [],
   "source": [
    "### TODO: Write your algorithm.\n",
    "### Feel free to use as many code cells as needed.\n",
    "import cv2\n",
    "def display_img(img_path):\n",
    "    img = cv2.imread(img_path)\n",
    "    cv_rgb = cv2.cvtColor(img, cv2.COLOR_BGR2RGB)\n",
    "    imgplot = plt.imshow(cv_rgb)\n",
    "    return imgplot\n",
    "\n",
    "def predict_breed(img_path):\n",
    "    display_img(img_path)\n",
    "    if dog_detector(img_path):\n",
    "        print(\"Hey, It's a dog!\")\n",
    "        return print(\"And I guess the Breed of this dog is a {}\".format(Xception_predict_breed(img_path)))\n",
    "        \n",
    "    if face_detector(img_path):\n",
    "        print(\"Hey, It's a human!\")\n",
    "        return print(\"Mmmmmm....If you were a dog, I guess you would be a ... {}!!\".format(Xception_predict_breed(img_path)))\n",
    "        \n",
    "    else:\n",
    "        return print(\"Hum... seems this neither dog, nor human; must be something else .\")"
   ]
  },
  {
   "cell_type": "markdown",
   "metadata": {},
   "source": [
    "---\n",
    "<a id='step7'></a>\n",
    "## Step 7: Test Your Algorithm\n",
    "\n",
    "In this section, you will take your new algorithm for a spin!  What kind of dog does the algorithm think that __you__ look like?  If you have a dog, does it predict your dog's breed accurately?  If you have a cat, does it mistakenly think that your cat is a dog?\n",
    "\n",
    "### (IMPLEMENTATION) Test Your Algorithm on Sample Images!\n",
    "\n",
    "Test your algorithm at least six images on your computer.  Feel free to use any images you like.  Use at least two human and two dog images.  \n",
    "\n",
    "__Question 6:__ Is the output better than you expected :) ?  Or worse :( ?  Provide at least three possible points of improvement for your algorithm.\n",
    "\n",
    "__Answer:__ \n",
    "\n",
    "The output is better than I expected.\n",
    "\n",
    "The output could be better:\n",
    "*By using Image Augmentation.\n",
    "*If we provide more data for training (More Breeds),accuracy could be improved.\n",
    "*we could increase the depth of the neural network.\n",
    "*Different model architectures can also be explored."
   ]
  },
  {
   "cell_type": "code",
   "execution_count": 33,
   "metadata": {},
   "outputs": [
    {
     "name": "stdout",
     "output_type": "stream",
     "text": [
      "['test_images/download1.jpg' 'test_images/download5.jpg'\n",
      " 'test_images/download2.jpg' 'test_images/download6.jpg'\n",
      " 'test_images/download4.jpg' 'test_images/image1.jpg']\n"
     ]
    }
   ],
   "source": [
    "## TODO: Execute your algorithm from Step 6 on\n",
    "## at least 6 images on your computer.\n",
    "## Feel free to use as many code cells as needed.\n",
    "import numpy as np\n",
    "from glob import glob\n",
    "sample_files = np.array(glob(\"test_images/*\"))\n",
    "print(sample_files)"
   ]
  },
  {
   "cell_type": "code",
   "execution_count": 34,
   "metadata": {},
   "outputs": [
    {
     "name": "stdout",
     "output_type": "stream",
     "text": [
      "Hey, It's a human!\n",
      "Downloading data from https://github.com/fchollet/deep-learning-models/releases/download/v0.4/xception_weights_tf_dim_ordering_tf_kernels_notop.h5\n",
      "83689472/83683744 [==============================] - 2s 0us/step\n",
      "Mmmmmm....If you were a dog, I guess you would be a ... ages/train/082.Havanese!!\n"
     ]
    },
    {
     "data": {
      "image/png": "[encoded data removed]",
      "text/plain": [
       "<matplotlib.figure.Figure at 0x7f859aa38748>"
      ]
     },
     "metadata": {
      "needs_background": "light"
     },
     "output_type": "display_data"
    }
   ],
   "source": [
    "predict_breed(\"test_images/download1.jpg\")"
   ]
  }
 ],
 "metadata": {
  "anaconda-cloud": {},
  "kernelspec": {
   "display_name": "Python 3",
   "language": "python",
   "name": "python3"
  },
  "language_info": {
   "codemirror_mode": {
    "name": "ipython",
    "version": 3
   },
   "file_extension": ".py",
   "mimetype": "text/x-python",
   "name": "python",
   "nbconvert_exporter": "python",
   "pygments_lexer": "ipython3",
   "version": "3.6.3"
  }
 },
 "nbformat": 4,
 "nbformat_minor": 1
}
